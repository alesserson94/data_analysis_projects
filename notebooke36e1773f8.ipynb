{
 "cells": [
  {
   "cell_type": "code",
   "execution_count": 1,
   "id": "2af8f2eb",
   "metadata": {
    "_cell_guid": "b1076dfc-b9ad-4769-8c92-a6c4dae69d19",
    "_uuid": "8f2839f25d086af736a60e9eeb907d3b93b6e0e5",
    "execution": {
     "iopub.execute_input": "2025-08-13T15:00:21.572023Z",
     "iopub.status.busy": "2025-08-13T15:00:21.571616Z",
     "iopub.status.idle": "2025-08-13T15:00:23.802422Z",
     "shell.execute_reply": "2025-08-13T15:00:23.800793Z"
    },
    "papermill": {
     "duration": 2.23691,
     "end_time": "2025-08-13T15:00:23.804829",
     "exception": false,
     "start_time": "2025-08-13T15:00:21.567919",
     "status": "completed"
    },
    "tags": []
   },
   "outputs": [
    {
     "name": "stdout",
     "output_type": "stream",
     "text": [
      "/kaggle/input/video-game-sales/Video Games - Sales.csv\n"
     ]
    }
   ],
   "source": [
    "# This Python 3 environment comes with many helpful analytics libraries installed\n",
    "# It is defined by the kaggle/python Docker image: https://github.com/kaggle/docker-python\n",
    "# For example, here's several helpful packages to load\n",
    "\n",
    "import numpy as np # linear algebra\n",
    "import pandas as pd # data processing, CSV file I/O (e.g. pd.read_csv)\n",
    "\n",
    "# Input data files are available in the read-only \"../input/\" directory\n",
    "# For example, running this (by clicking run or pressing Shift+Enter) will list all files under the input directory\n",
    "\n",
    "import os\n",
    "for dirname, _, filenames in os.walk('/kaggle/input'):\n",
    "    for filename in filenames:\n",
    "        print(os.path.join(dirname, filename))\n",
    "\n",
    "# You can write up to 20GB to the current directory (/kaggle/working/) that gets preserved as output when you create a version using \"Save & Run All\" \n",
    "# You can also write temporary files to /kaggle/temp/, but they won't be saved outside of the current session"
   ]
  },
  {
   "cell_type": "code",
   "execution_count": 2,
   "id": "e9a0284f",
   "metadata": {
    "execution": {
     "iopub.execute_input": "2025-08-13T15:00:23.810596Z",
     "iopub.status.busy": "2025-08-13T15:00:23.810162Z",
     "iopub.status.idle": "2025-08-13T15:00:23.903294Z",
     "shell.execute_reply": "2025-08-13T15:00:23.901782Z"
    },
    "papermill": {
     "duration": 0.097707,
     "end_time": "2025-08-13T15:00:23.905036",
     "exception": false,
     "start_time": "2025-08-13T15:00:23.807329",
     "status": "completed"
    },
    "tags": []
   },
   "outputs": [
    {
     "name": "stdout",
     "output_type": "stream",
     "text": [
      "                                                   Name Platform  \\\n",
      "0                                            Wii Sports      Wii   \n",
      "1                                     Super Mario Bros.      NES   \n",
      "2                                        Mario Kart Wii      Wii   \n",
      "3                                     Wii Sports Resort      Wii   \n",
      "4                              Pokemon Red/Pokemon Blue       GB   \n",
      "...                                                 ...      ...   \n",
      "12436            Command & Conquer 4: Tiberian Twilight       PC   \n",
      "12437             Winter Sports 3: The Great Tournament     X360   \n",
      "12438                        GTI Club: Supermini Festa!      Wii   \n",
      "12439                     Magic Encyclopedia: Moonlight       DS   \n",
      "12440  SCORE International Baja 1000: The Official Game      PS2   \n",
      "\n",
      "       Release Year         Genre        Publisher  NA_Sales  EU_Sales  \\\n",
      "0              2006        Sports         Nintendo     41.49     29.02   \n",
      "1              1985      Platform         Nintendo     29.08      3.58   \n",
      "2              2008        Racing         Nintendo     15.85     12.88   \n",
      "3              2009        Sports         Nintendo     15.75     11.01   \n",
      "4              1996  Role-Playing         Nintendo     11.27      8.89   \n",
      "...             ...           ...              ...       ...       ...   \n",
      "12436          2010      Strategy  Electronic Arts      0.00      0.01   \n",
      "12437          2010        Sports            Other      0.00      0.01   \n",
      "12438          2010        Racing            Other      0.01      0.00   \n",
      "12439          2010          Misc            Other      0.00      0.01   \n",
      "12440          2008        Racing       Activision      0.00      0.00   \n",
      "\n",
      "       JP_Sales  Other_Sales  Global_Sales  \n",
      "0          3.77         8.46         82.74  \n",
      "1          6.81         0.77         40.24  \n",
      "2          3.79         3.31         35.83  \n",
      "3          3.28         2.96         33.00  \n",
      "4         10.22         1.00         31.38  \n",
      "...         ...          ...           ...  \n",
      "12436      0.00         0.00          0.01  \n",
      "12437      0.00         0.00          0.01  \n",
      "12438      0.00         0.00          0.01  \n",
      "12439      0.00         0.00          0.01  \n",
      "12440      0.00         0.00          0.00  \n",
      "\n",
      "[12441 rows x 10 columns]\n"
     ]
    }
   ],
   "source": [
    "import pandas as pd\n",
    "import matplotlib.pyplot as plt\n",
    "\n",
    "video_games=pd.read_csv('/kaggle/input/video-game-sales/Video Games - Sales.csv')\n",
    "print(video_games)"
   ]
  }
 ],
 "metadata": {
  "kaggle": {
   "accelerator": "none",
   "dataSources": [
    {
     "datasetId": 8063498,
     "sourceId": 12755368,
     "sourceType": "datasetVersion"
    }
   ],
   "dockerImageVersionId": 31089,
   "isGpuEnabled": false,
   "isInternetEnabled": false,
   "language": "python",
   "sourceType": "notebook"
  },
  "kernelspec": {
   "display_name": "Python 3",
   "language": "python",
   "name": "python3"
  },
  "language_info": {
   "codemirror_mode": {
    "name": "ipython",
    "version": 3
   },
   "file_extension": ".py",
   "mimetype": "text/x-python",
   "name": "python",
   "nbconvert_exporter": "python",
   "pygments_lexer": "ipython3",
   "version": "3.11.13"
  },
  "papermill": {
   "default_parameters": {},
   "duration": 8.529575,
   "end_time": "2025-08-13T15:00:24.527940",
   "environment_variables": {},
   "exception": null,
   "input_path": "__notebook__.ipynb",
   "output_path": "__notebook__.ipynb",
   "parameters": {},
   "start_time": "2025-08-13T15:00:15.998365",
   "version": "2.6.0"
  }
 },
 "nbformat": 4,
 "nbformat_minor": 5
}
